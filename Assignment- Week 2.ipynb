{
 "cells": [
  {
   "cell_type": "markdown",
   "id": "294ec005-1813-439b-8e61-d404f695eca8",
   "metadata": {},
   "source": [
    "Assignment- Week 2"
   ]
  },
  {
   "cell_type": "markdown",
   "id": "49e8f4f3-0b6e-4579-85d1-88e69ba2e18a",
   "metadata": {},
   "source": [
    "Q1. How do you comment code in Python? What are the different types of comments?"
   ]
  },
  {
   "cell_type": "code",
   "execution_count": 6,
   "id": "60062096-c85b-484c-b9b2-2c15154e98da",
   "metadata": {},
   "outputs": [],
   "source": [
    "# This is a single-line comment.\n",
    "\"\"\"This is a multi-line commentIt can span multiple lines.\"\"\""
   ]
  },
  {
   "cell_type": "markdown",
   "id": "e2bfd814-3536-493b-b955-f39d29f88266",
   "metadata": {},
   "source": [
    "Q2. What are variables in Python? How do you declare and assign values to variables?"
   ]
  },
  {
   "cell_type": "raw",
   "id": "e61f899a-13b6-4e76-af40-c2d1899b55c0",
   "metadata": {},
   "source": [
    "In Python, a variable is a name that is used to refer to a value. Variables are used to store data and to make it easier to refer to that data.\n",
    "\n",
    "To declare a variable in Python, you simply assign a value to it. For example:"
   ]
  },
  {
   "cell_type": "code",
   "execution_count": 7,
   "id": "b9703d64-a056-4c6f-a2ff-a85c68e26f6b",
   "metadata": {},
   "outputs": [],
   "source": [
    "Python= \"Hi sir\""
   ]
  },
  {
   "cell_type": "markdown",
   "id": "114c45a1-9244-4a56-a260-3e9a38cba76d",
   "metadata": {},
   "source": [
    "Q3. How do you convert one data type to another in Python?"
   ]
  },
  {
   "cell_type": "code",
   "execution_count": 22,
   "id": "c3768e5d-6b29-43ce-8a95-393be40e4d71",
   "metadata": {},
   "outputs": [
    {
     "data": {
      "text/plain": [
       "12"
      ]
     },
     "execution_count": 22,
     "metadata": {},
     "output_type": "execute_result"
    }
   ],
   "source": [
    "a = \"10\"\n",
    "b = 2\n",
    "int(a) + b"
   ]
  },
  {
   "cell_type": "markdown",
   "id": "0b903c81-110f-4aeb-b8bf-035680bc124d",
   "metadata": {},
   "source": [
    "Q4. How do you write and execute a Python script from the command line?"
   ]
  },
  {
   "cell_type": "raw",
   "id": "6628ee42-9374-4b91-bdb3-d5e4f3512341",
   "metadata": {},
   "source": [
    "CTRL+ENTER"
   ]
  },
  {
   "cell_type": "markdown",
   "id": "d5416f67-fdbc-4031-b0da-779042f8fa81",
   "metadata": {},
   "source": [
    "Q5. Given a list my_list = [1, 2, 3, 4, 5], write the code to slice the list and obtain the sub-list [2, 3]."
   ]
  },
  {
   "cell_type": "code",
   "execution_count": 23,
   "id": "256ddfac-561a-4496-b5ec-d1bd8211b6e7",
   "metadata": {},
   "outputs": [],
   "source": [
    "my_list = [1, 2, 3, 4, 5]"
   ]
  },
  {
   "cell_type": "code",
   "execution_count": 24,
   "id": "fca8f871-7082-45f8-863b-051da0b2c7a7",
   "metadata": {},
   "outputs": [
    {
     "data": {
      "text/plain": [
       "[2, 3]"
      ]
     },
     "execution_count": 24,
     "metadata": {},
     "output_type": "execute_result"
    }
   ],
   "source": [
    "my_list[1:3]"
   ]
  },
  {
   "cell_type": "markdown",
   "id": "ccc8327d-ed97-452b-ba86-0655ac013aba",
   "metadata": {},
   "source": [
    "Q6. What is a complex number in mathematics, and how is it represented in Python?"
   ]
  },
  {
   "cell_type": "raw",
   "id": "8f635666-bd70-4163-863d-0f824f9fd6e4",
   "metadata": {},
   "source": [
    "Complex number those number which have are real and imaginary number. eg: 4+5j"
   ]
  },
  {
   "cell_type": "code",
   "execution_count": 26,
   "id": "2f48a842-26d1-4686-a85e-f4a1039cc09d",
   "metadata": {},
   "outputs": [],
   "source": [
    "C_1= 4+5j"
   ]
  },
  {
   "cell_type": "code",
   "execution_count": 27,
   "id": "0bc1a300-2019-4462-b092-cc326cabbece",
   "metadata": {},
   "outputs": [
    {
     "data": {
      "text/plain": [
       "complex"
      ]
     },
     "execution_count": 27,
     "metadata": {},
     "output_type": "execute_result"
    }
   ],
   "source": [
    "type(C_1)"
   ]
  },
  {
   "cell_type": "markdown",
   "id": "4af4affc-e393-454e-8f77-361da4ee424a",
   "metadata": {},
   "source": [
    "Q7. What is the correct way to declare a variable named age and assign the value 25 to it?"
   ]
  },
  {
   "cell_type": "code",
   "execution_count": 28,
   "id": "d83ba108-b916-4555-8bda-378167541e16",
   "metadata": {},
   "outputs": [],
   "source": [
    "age= 25"
   ]
  },
  {
   "cell_type": "code",
   "execution_count": 29,
   "id": "c941db7b-be9f-4d28-95fa-06f79335a0c3",
   "metadata": {},
   "outputs": [
    {
     "data": {
      "text/plain": [
       "25"
      ]
     },
     "execution_count": 29,
     "metadata": {},
     "output_type": "execute_result"
    }
   ],
   "source": [
    "age"
   ]
  },
  {
   "cell_type": "markdown",
   "id": "6670d995-ed07-4649-9bcc-310777bcbd8a",
   "metadata": {},
   "source": [
    "Q8. Declare a variable named price and assign the value 9.99 to it. What data type does this variable\n",
    "belong to?"
   ]
  },
  {
   "cell_type": "code",
   "execution_count": 32,
   "id": "a8c04187-52f7-4817-a651-f46cdbecd715",
   "metadata": {},
   "outputs": [
    {
     "name": "stdout",
     "output_type": "stream",
     "text": [
      "9.99\n"
     ]
    }
   ],
   "source": [
    "price=9.99\n",
    "print(price)"
   ]
  },
  {
   "cell_type": "code",
   "execution_count": 31,
   "id": "52416396-b5f5-4bd4-9758-82df6dc2bdf6",
   "metadata": {},
   "outputs": [
    {
     "data": {
      "text/plain": [
       "float"
      ]
     },
     "execution_count": 31,
     "metadata": {},
     "output_type": "execute_result"
    }
   ],
   "source": [
    "type(price)"
   ]
  },
  {
   "cell_type": "markdown",
   "id": "b086e1b8-33dc-440b-a2aa-b4a4237a0a2f",
   "metadata": {},
   "source": [
    "Q9. Create a variable named name and assign your full name to it as a string. How would you print the\n",
    "value of this variable?"
   ]
  },
  {
   "cell_type": "code",
   "execution_count": 33,
   "id": "0e2a95e5-4eb0-4c57-a822-5c4237845b8b",
   "metadata": {},
   "outputs": [
    {
     "name": "stdout",
     "output_type": "stream",
     "text": [
      "Nitin Goma\n"
     ]
    }
   ],
   "source": [
    "name= \"Nitin Goma\"\n",
    "print(name)"
   ]
  },
  {
   "cell_type": "markdown",
   "id": "0d2e66fe-b0db-45b0-9d75-d7eba5fc9c0e",
   "metadata": {},
   "source": [
    "Q10. Given the string \"Hello, World!\", extract the substring \"World\"."
   ]
  },
  {
   "cell_type": "code",
   "execution_count": 34,
   "id": "264866f0-ded4-4731-9469-7a6bef59e7c8",
   "metadata": {},
   "outputs": [],
   "source": [
    "st= \"Hello, World!\""
   ]
  },
  {
   "cell_type": "code",
   "execution_count": 36,
   "id": "b824ac81-9d04-45b7-9ef5-1a1a42b99284",
   "metadata": {},
   "outputs": [
    {
     "data": {
      "text/plain": [
       "'World'"
      ]
     },
     "execution_count": 36,
     "metadata": {},
     "output_type": "execute_result"
    }
   ],
   "source": [
    "st[7:12]"
   ]
  },
  {
   "cell_type": "markdown",
   "id": "e0f369c2-195e-438e-8faa-7c5edd1b8057",
   "metadata": {},
   "source": [
    "Q11. Create a variable named \"is_student\" and assign it a boolean value indicating whether you are\n",
    "currently a student or not."
   ]
  },
  {
   "cell_type": "code",
   "execution_count": 38,
   "id": "339b36a5-a515-4790-9250-3fe1505eac23",
   "metadata": {},
   "outputs": [],
   "source": [
    "is_student = True"
   ]
  },
  {
   "cell_type": "code",
   "execution_count": null,
   "id": "c2a0dae0-e882-4282-9c14-9fa022f62f3d",
   "metadata": {},
   "outputs": [],
   "source": []
  },
  {
   "cell_type": "code",
   "execution_count": null,
   "id": "2e1c7d33-f6f4-475d-bb00-ff359baad43e",
   "metadata": {},
   "outputs": [],
   "source": []
  },
  {
   "cell_type": "code",
   "execution_count": null,
   "id": "57e1554c-fc0b-41b8-af80-38d86cf76c77",
   "metadata": {},
   "outputs": [],
   "source": []
  },
  {
   "cell_type": "code",
   "execution_count": null,
   "id": "1e7d03cf-b9fc-4371-816a-006e35bf4e7c",
   "metadata": {},
   "outputs": [],
   "source": []
  },
  {
   "cell_type": "code",
   "execution_count": null,
   "id": "d6358b6b-303a-4d09-b19e-aceb7675cc60",
   "metadata": {},
   "outputs": [],
   "source": []
  }
 ],
 "metadata": {
  "kernelspec": {
   "display_name": "Python 3 (ipykernel)",
   "language": "python",
   "name": "python3"
  },
  "language_info": {
   "codemirror_mode": {
    "name": "ipython",
    "version": 3
   },
   "file_extension": ".py",
   "mimetype": "text/x-python",
   "name": "python",
   "nbconvert_exporter": "python",
   "pygments_lexer": "ipython3",
   "version": "3.10.8"
  }
 },
 "nbformat": 4,
 "nbformat_minor": 5
}
